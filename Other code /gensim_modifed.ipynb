{
 "cells": [
  {
   "cell_type": "code",
   "execution_count": 1,
   "metadata": {
    "collapsed": false
   },
   "outputs": [
    {
     "name": "stderr",
     "output_type": "stream",
     "text": [
      "//anaconda/lib/python2.7/site-packages/gensim-0.13.3-py2.7-macosx-10.6-x86_64.egg/gensim/utils.py:1015: UserWarning: Pattern library is not installed, lemmatization won't be available.\n",
      "  warnings.warn(\"Pattern library is not installed, lemmatization won't be available.\")\n"
     ]
    }
   ],
   "source": [
    "import gensim\n",
    "from nltk.tokenize import sent_tokenize\n",
    "import numpy as np\n",
    "from gensim import corpora, models, similarities, utils\n",
    "from nltk.corpus import stopwords\n",
    "import nltk\n",
    "from nltk import SnowballStemmer\n",
    "from nltk import WordNetLemmatizer\n",
    "from collections import Counter\n",
    "from itertools import chain\n",
    "import time"
   ]
  },
  {
   "cell_type": "code",
   "execution_count": 2,
   "metadata": {
    "collapsed": true
   },
   "outputs": [],
   "source": [
    "raw_text = open('smaller_pat_text_db.txt','r').readlines()\n"
   ]
  },
  {
   "cell_type": "code",
   "execution_count": 4,
   "metadata": {
    "collapsed": true
   },
   "outputs": [],
   "source": [
    "tags_list = []\n",
    "words_list = []\n",
    "for idx, line in enumerate(raw_text):\n",
    "    tags = line[:7]\n",
    "    tags_list.append(tags)\n",
    "    words = gensim.utils.simple_preprocess(line[9:])\n",
    "    words_list.append(words)"
   ]
  },
  {
   "cell_type": "code",
   "execution_count": 9,
   "metadata": {
    "collapsed": false
   },
   "outputs": [],
   "source": [
    "stoplist = nltk.corpus.stopwords.words('english')   ## remove common stops words \n",
    "texts = [[word for word in para if word not in stoplist]for para in words_list]\n",
    "\n",
    "#snowball = SnowballStemmer('english')     ## stemming \n",
    "#texts = [[snowball.stem(word) for word in para ]for para in texts]\n",
    "\n",
    "#wordnet = WordNetLemmatizer()     ## lemmatizing \n",
    "#texts = [[wordnet.lemmatize(word) for word in para ]for para in texts]\n",
    "\n",
    "\n"
   ]
  },
  {
   "cell_type": "markdown",
   "metadata": {
    "collapsed": true
   },
   "source": [
    "start_time = time.time()\n",
    "c = Counter(chain.from_iterable(texts))  # remove words that apear only 1 times \n",
    "texts = [[word for word in x if c[word]>1] for x in texts]\n",
    "finish_time = time.time()"
   ]
  },
  {
   "cell_type": "code",
   "execution_count": 10,
   "metadata": {
    "collapsed": false
   },
   "outputs": [],
   "source": [
    "documents = [gensim.models.doc2vec.TaggedDocument(words = texts[i], tags = [tags_list[i]]) for i in range(len(tags_list))]\n"
   ]
  },
  {
   "cell_type": "code",
   "execution_count": 11,
   "metadata": {
    "collapsed": false
   },
   "outputs": [
    {
     "name": "stdout",
     "output_type": "stream",
     "text": [
      "26.9784150124\n"
     ]
    }
   ],
   "source": [
    "start_time_train = time.time()\n",
    "model = gensim.models.doc2vec.Doc2Vec(documents, size=100, window=5, alpha= 0.025, min_count=2, workers=4)\n",
    "finish_time_train = time.time()\n",
    "print (finish_time_train - start_time_train)"
   ]
  },
  {
   "cell_type": "code",
   "execution_count": 12,
   "metadata": {
    "collapsed": false
   },
   "outputs": [
    {
     "data": {
      "text/plain": [
       "[(u'lfsr', 0.4714847803115845),\n",
       " (u'revocation', 0.4517713189125061),\n",
       " (u'ran', 0.4084291458129883),\n",
       " (u'secrete', 0.4048823416233063),\n",
       " (u'adaptive', 0.4033549427986145),\n",
       " (u'isb', 0.3977205753326416),\n",
       " (u'photofinishing', 0.39696651697158813),\n",
       " (u'executive', 0.39649268984794617),\n",
       " (u'scrambles', 0.3940891623497009),\n",
       " (u'chest', 0.38366711139678955)]"
      ]
     },
     "execution_count": 12,
     "metadata": {},
     "output_type": "execute_result"
    }
   ],
   "source": [
    "model.similar_by_word('sport')"
   ]
  },
  {
   "cell_type": "code",
   "execution_count": 13,
   "metadata": {
    "collapsed": false
   },
   "outputs": [],
   "source": [
    "model.save('test_gensim')"
   ]
  },
  {
   "cell_type": "code",
   "execution_count": 14,
   "metadata": {
    "collapsed": false
   },
   "outputs": [],
   "source": [
    "model = gensim.models.doc2vec.Doc2Vec.load('test_gensim')"
   ]
  },
  {
   "cell_type": "code",
   "execution_count": 15,
   "metadata": {
    "collapsed": false
   },
   "outputs": [
    {
     "data": {
      "text/plain": [
       "array([ 0.12349164,  0.03529048,  0.05750129, -0.19270481, -0.17047837,\n",
       "       -0.17345257,  0.17451447, -0.11230258,  0.23151496,  0.24474905,\n",
       "       -0.17795715, -0.08487964,  0.19645104, -0.07903372,  0.1443719 ,\n",
       "       -0.19219232,  0.07676498,  0.01045982,  0.03909292,  0.09934176,\n",
       "       -0.24370995,  0.01297361,  0.00999235, -0.16202325,  0.00613266,\n",
       "       -0.15249468,  0.12758744, -0.20415698,  0.23412599, -0.18578424,\n",
       "        0.0168658 , -0.13911742, -0.17523348,  0.42497188, -0.07062281,\n",
       "       -0.1403639 ,  0.0135661 , -0.19985229, -0.00975058,  0.21726963,\n",
       "        0.03532925,  0.32835522, -0.39495325, -0.04819897,  0.27291214,\n",
       "        0.10355999,  0.21471258,  0.02040223,  0.01600212,  0.10905502,\n",
       "        0.0383379 ,  0.13842846,  0.28849608, -0.19727372, -0.35560486,\n",
       "        0.22611   ,  0.23853037, -0.12948298,  0.14886031, -0.25619468,\n",
       "       -0.04496351,  0.14460017,  0.02970861, -0.35251543,  0.04425351,\n",
       "       -0.19483653, -0.08610127,  0.14102174,  0.09960744,  0.00839376,\n",
       "        0.25911915, -0.22391464, -0.07546651,  0.07523249, -0.30501667,\n",
       "       -0.2041738 , -0.08844575,  0.01998871,  0.1021138 ,  0.40070933,\n",
       "        0.05028535,  0.18800758,  0.05361288,  0.0376808 , -0.17999654,\n",
       "        0.15957437,  0.0572456 , -0.03712386, -0.08495511, -0.00310539,\n",
       "        0.19652803, -0.25214875, -0.30155301,  0.09491979,  0.17865358,\n",
       "       -0.27840921, -0.16736455, -0.2894676 , -0.15362096, -0.05485449], dtype=float32)"
      ]
     },
     "execution_count": 15,
     "metadata": {},
     "output_type": "execute_result"
    }
   ],
   "source": [
    "model.docvecs['7716768']"
   ]
  },
  {
   "cell_type": "code",
   "execution_count": 16,
   "metadata": {
    "collapsed": false
   },
   "outputs": [
    {
     "data": {
      "text/plain": [
       "[('7716897', 0.5852824449539185),\n",
       " ('7716874', 0.5318326950073242),\n",
       " ('7717122', 0.5268031358718872),\n",
       " ('7721391', 0.5242995023727417),\n",
       " ('7716835', 0.5070189833641052),\n",
       " ('7717017', 0.4986177086830139),\n",
       " ('7717016', 0.49395477771759033),\n",
       " ('7716891', 0.49200206995010376),\n",
       " ('7716786', 0.4911675453186035),\n",
       " ('7716841', 0.49085426330566406),\n",
       " ('7721366', 0.48017430305480957),\n",
       " ('7716875', 0.4796663820743561),\n",
       " ('7717157', 0.4724685549736023),\n",
       " ('7722640', 0.4715217351913452),\n",
       " ('7716775', 0.4697118103504181),\n",
       " ('7722583', 0.45841872692108154),\n",
       " ('7717514', 0.4560202956199646),\n",
       " ('7716840', 0.4553130865097046),\n",
       " ('7716790', 0.45196419954299927),\n",
       " ('7717920', 0.4470166265964508)]"
      ]
     },
     "execution_count": 16,
     "metadata": {},
     "output_type": "execute_result"
    }
   ],
   "source": [
    "model.docvecs.most_similar('7716768',topn=20)"
   ]
  },
  {
   "cell_type": "code",
   "execution_count": null,
   "metadata": {
    "collapsed": true
   },
   "outputs": [],
   "source": []
  }
 ],
 "metadata": {
  "anaconda-cloud": {},
  "kernelspec": {
   "display_name": "Python [default]",
   "language": "python",
   "name": "python2"
  },
  "language_info": {
   "codemirror_mode": {
    "name": "ipython",
    "version": 2
   },
   "file_extension": ".py",
   "mimetype": "text/x-python",
   "name": "python",
   "nbconvert_exporter": "python",
   "pygments_lexer": "ipython2",
   "version": "2.7.12"
  }
 },
 "nbformat": 4,
 "nbformat_minor": 0
}
